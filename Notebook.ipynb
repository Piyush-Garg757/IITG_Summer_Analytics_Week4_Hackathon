{
 "cells": [
  {
   "cell_type": "code",
   "execution_count": 3,
   "id": "c611d2cf",
   "metadata": {},
   "outputs": [
    {
     "name": "stdout",
     "output_type": "stream",
     "text": [
      "Unique values before: ['Adult' 'Senior' nan]\n",
      "Unique values after: [0 1]\n"
     ]
    },
    {
     "name": "stderr",
     "output_type": "stream",
     "text": [
      "c:\\Users\\piyush\\AppData\\Local\\Programs\\Python\\Python313\\Lib\\site-packages\\xgboost\\training.py:183: UserWarning: [17:51:57] WARNING: C:\\actions-runner\\_work\\xgboost\\xgboost\\src\\learner.cc:738: \n",
      "Parameters: { \"use_label_encoder\" } are not used.\n",
      "\n",
      "  bst.update(dtrain, iteration=i, fobj=obj)\n"
     ]
    },
    {
     "name": "stdout",
     "output_type": "stream",
     "text": [
      "Validation Accuracy: 0.8046\n",
      "Submission file saved as 'xgboost_fast_submission.csv'\n"
     ]
    }
   ],
   "source": [
    "# NHANES Age Group Prediction using XGBoost\n",
    "\n",
    "import pandas as pd\n",
    "from sklearn.model_selection import train_test_split\n",
    "from sklearn.metrics import accuracy_score\n",
    "from xgboost import XGBClassifier\n",
    "\n",
    "# Load datasets\n",
    "train_df = pd.read_csv(\"Train_Data.csv\")\n",
    "test_df = pd.read_csv(\"Test_Data.csv\")\n",
    "\n",
    "# 🔧 Clean age_group (convert 'Senior' to 1, others to 0)\n",
    "print(\"Unique values before:\", train_df['age_group'].unique())\n",
    "\n",
    "train_df['age_group'] = train_df['age_group'].astype(str).str.strip().map(\n",
    "    lambda x: 1 if x.lower() == 'senior' else 0\n",
    ")\n",
    "\n",
    "print(\"Unique values after:\", train_df['age_group'].unique())\n",
    "\n",
    "# ✅ Prepare features and labels\n",
    "X = train_df.drop(columns=[\"age_group\", \"SEQN\"])\n",
    "y = train_df[\"age_group\"]\n",
    "\n",
    "# Drop SEQN from test set\n",
    "X_test = test_df.drop(columns=[\"SEQN\"])\n",
    "\n",
    "# 🧠 Train-validation split\n",
    "X_train, X_val, y_train, y_val = train_test_split(X, y, test_size=0.2, random_state=42)\n",
    "\n",
    "# 🚀 Train XGBoost model\n",
    "model = XGBClassifier(use_label_encoder=False, eval_metric=\"logloss\", random_state=42)\n",
    "model.fit(X_train, y_train)\n",
    "\n",
    "# 🔍 Evaluate\n",
    "val_preds = model.predict(X_val)\n",
    "val_acc = accuracy_score(y_val, val_preds)\n",
    "print(f\"Validation Accuracy: {val_acc:.4f}\")\n",
    "\n",
    "# 📈 Predict on test set\n",
    "test_preds = model.predict(X_test)\n",
    "\n",
    "# 📦 Save submission\n",
    "submission = pd.DataFrame(test_preds, columns=[\"is_senior\"])\n",
    "submission.to_csv(\"xgboost_fast_submission.csv\", index=False)\n",
    "print(\"Submission file saved as 'xgboost_fast_submission.csv'\")\n"
   ]
  }
 ],
 "metadata": {
  "kernelspec": {
   "display_name": "Python 3",
   "language": "python",
   "name": "python3"
  },
  "language_info": {
   "codemirror_mode": {
    "name": "ipython",
    "version": 3
   },
   "file_extension": ".py",
   "mimetype": "text/x-python",
   "name": "python",
   "nbconvert_exporter": "python",
   "pygments_lexer": "ipython3",
   "version": "3.13.1"
  }
 },
 "nbformat": 4,
 "nbformat_minor": 5
}
